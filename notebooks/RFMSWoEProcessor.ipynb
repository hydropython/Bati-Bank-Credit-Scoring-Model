{
 "cells": [
  {
   "cell_type": "code",
   "execution_count": 4,
   "metadata": {},
   "outputs": [],
   "source": [
    "import sys\n",
    "import pandas as pd\n",
    "sys.path.append('../Scripts')\n",
    "from RFMSWoEProcessor import RFMSWoEProcessor\n",
    "\n",
    "rfms_df =pd.read_csv('../Data/rfms_final_data.csv')"
   ]
  },
  {
   "cell_type": "code",
   "execution_count": 8,
   "metadata": {},
   "outputs": [
    {
     "name": "stdout",
     "output_type": "stream",
     "text": [
      "['CustomerId', 'Recency', 'Frequency', 'Monetary', 'Score', 'UserLabel', 'Recency_bin', 'Monetary_bin']\n"
     ]
    }
   ],
   "source": [
    "print(rfms_df.columns.tolist())\n",
    "woe_processor = RFMSWoEProcessor(rfms_df)\n"
   ]
  },
  {
   "cell_type": "code",
   "execution_count": 9,
   "metadata": {},
   "outputs": [
    {
     "name": "stdout",
     "output_type": "stream",
     "text": [
      "Recency WoE Table:\n",
      "          Recency_bin  total           good            bad  good_dist  \\\n",
      "0  (2060.999, 2062.0]    480 -958023.556761  958503.556761          0   \n",
      "1    (2062.0, 2065.0]    331 -669716.495441  670047.495441          0   \n",
      "2    (2065.0, 2068.0]    314 -638942.976237  639256.976237          0   \n",
      "3    (2068.0, 2075.0]    392 -803515.461945  803907.461945          0   \n",
      "4    (2075.0, 2085.0]    370 -762655.203889  763025.203889          0   \n",
      "5    (2085.0, 2095.0]    379 -780058.151653  780437.151653          0   \n",
      "6    (2095.0, 2107.0]    362 -757124.520509  757486.520509          0   \n",
      "7    (2107.0, 2119.0]    384 -807464.268162  807848.268162          0   \n",
      "8    (2119.0, 2135.0]    388 -822162.755492  822550.755492          0   \n",
      "9    (2135.0, 2151.0]    342 -731499.317353  731841.317353          0   \n",
      "\n",
      "   bad_dist  woe  \n",
      "0  0.123919  0.0  \n",
      "1  0.086626  0.0  \n",
      "2  0.082646  0.0  \n",
      "3  0.103932  0.0  \n",
      "4  0.098647  0.0  \n",
      "5  0.100898  0.0  \n",
      "6  0.097931  0.0  \n",
      "7  0.104442  0.0  \n",
      "8  0.106343  0.0  \n",
      "9  0.094615  0.0  \n",
      "Monetary WoE Table:\n",
      "         Monetary_bin  total           good            bad  good_dist  \\\n",
      "0       (0.111, 0.38]    378 -796090.878186  796468.878186          0   \n",
      "1       (0.38, 0.679]    385 -811222.801151  811607.801151          0   \n",
      "2      (0.679, 1.298]    367 -770828.633997  771195.633997          0   \n",
      "3      (1.298, 2.241]    386 -809673.319691  810059.319691          0   \n",
      "4      (2.241, 2.751]    360 -750888.113503  751248.113503          0   \n",
      "5      (2.751, 4.173]    369 -769390.734104  769759.734104          0   \n",
      "6      (4.173, 6.676]    374 -775578.988423  775952.988423          0   \n",
      "7     (6.676, 10.884]    374 -769869.799082  770243.799082          0   \n",
      "8    (10.884, 22.882]    374 -761358.146077  761732.146077          0   \n",
      "9  (22.882, 1637.587]    375 -716261.293228  716636.293228          0   \n",
      "\n",
      "   bad_dist  woe  \n",
      "0  0.102971  0.0  \n",
      "1  0.104928  0.0  \n",
      "2  0.099703  0.0  \n",
      "3  0.104728  0.0  \n",
      "4  0.097124  0.0  \n",
      "5  0.099518  0.0  \n",
      "6  0.100318  0.0  \n",
      "7  0.099580  0.0  \n",
      "8  0.098480  0.0  \n",
      "9  0.092650  0.0  \n",
      "WoE output saved to ../Data/recency_woe_output.csv\n",
      "WoE output saved to ../Data/monetary_woe_output.csv\n"
     ]
    },
    {
     "name": "stderr",
     "output_type": "stream",
     "text": [
      "d:\\10 ACADAMY KIFIYA\\Week_6\\Bati-Bank-Credit-Scoring-Model\\env\\Lib\\site-packages\\pandas\\core\\arraylike.py:399: RuntimeWarning: divide by zero encountered in log\n",
      "  result = getattr(ufunc, method)(*inputs, **kwargs)\n",
      "d:\\10 ACADAMY KIFIYA\\Week_6\\Bati-Bank-Credit-Scoring-Model\\env\\Lib\\site-packages\\pandas\\core\\arraylike.py:399: RuntimeWarning: divide by zero encountered in log\n",
      "  result = getattr(ufunc, method)(*inputs, **kwargs)\n"
     ]
    }
   ],
   "source": [
    "woe_processor.run_woe()"
   ]
  }
 ],
 "metadata": {
  "kernelspec": {
   "display_name": "env",
   "language": "python",
   "name": "python3"
  },
  "language_info": {
   "codemirror_mode": {
    "name": "ipython",
    "version": 3
   },
   "file_extension": ".py",
   "mimetype": "text/x-python",
   "name": "python",
   "nbconvert_exporter": "python",
   "pygments_lexer": "ipython3",
   "version": "3.12.6"
  }
 },
 "nbformat": 4,
 "nbformat_minor": 2
}
